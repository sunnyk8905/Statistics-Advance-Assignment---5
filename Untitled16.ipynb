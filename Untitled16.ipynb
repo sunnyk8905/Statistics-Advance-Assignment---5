{
 "cells": [
  {
   "cell_type": "code",
   "execution_count": null,
   "id": "8114c34c-aad2-4357-b00b-7df309f14238",
   "metadata": {},
   "outputs": [],
   "source": [
    "Q1. Calculate the 95% confidence interval for a sample of data with a mean of 50 and a standard deviation\n",
    "of 5 using Python. Interpret the results."
   ]
  },
  {
   "cell_type": "code",
   "execution_count": 1,
   "id": "7143dd40-ba71-4493-94af-1150cb918a10",
   "metadata": {},
   "outputs": [
    {
     "name": "stdout",
     "output_type": "stream",
     "text": [
      "95% Confidence Interval: (49.01, 50.99)\n"
     ]
    }
   ],
   "source": [
    "import numpy as np\n",
    "from scipy import stats\n",
    "\n",
    "sample_mean = 50\n",
    "sample_std_dev = 5\n",
    "sample_size = 100  \n",
    "\n",
    "standard_error = sample_std_dev / np.sqrt(sample_size)\n",
    "\n",
    "t_critical = stats.t.ppf(0.975, df=sample_size - 1)  \n",
    "margin_of_error = t_critical * standard_error\n",
    "\n",
    "lower_bound = sample_mean - margin_of_error\n",
    "upper_bound = sample_mean + margin_of_error\n",
    "\n",
    "print(\"95% Confidence Interval: ({:.2f}, {:.2f})\".format(lower_bound, upper_bound))\n"
   ]
  },
  {
   "cell_type": "code",
   "execution_count": null,
   "id": "dc5f24e1-60fb-4983-9d41-8b422197969d",
   "metadata": {},
   "outputs": [],
   "source": [
    " we are 95% confident that the true population mean lies within the range of lower_bound to upper_bound. "
   ]
  },
  {
   "cell_type": "code",
   "execution_count": null,
   "id": "64326400-5273-4c36-88a6-31ff1c92840a",
   "metadata": {},
   "outputs": [],
   "source": [
    "Q2. Conduct a chi-square goodness of fit test to determine if the distribution of colors of M&Ms in a bag\n",
    "matches the expected distribution of 20% blue, 20% orange, 20% green, 10% yellow, 10% red, and 20%\n",
    "brown. Use Python to perform the test with a significance level of 0.05."
   ]
  },
  {
   "cell_type": "code",
   "execution_count": 3,
   "id": "68e0d4de-6a74-4e32-837f-864eb53bc57f",
   "metadata": {},
   "outputs": [
    {
     "ename": "ValueError",
     "evalue": "For each axis slice, the sum of the observed frequencies must agree with the sum of the expected frequencies to a relative tolerance of 1e-08, but the percent differences are:\n0.2",
     "output_type": "error",
     "traceback": [
      "\u001b[0;31m---------------------------------------------------------------------------\u001b[0m",
      "\u001b[0;31mValueError\u001b[0m                                Traceback (most recent call last)",
      "Cell \u001b[0;32mIn[3], line 7\u001b[0m\n\u001b[1;32m      4\u001b[0m expected_counts \u001b[38;5;241m=\u001b[39m [\u001b[38;5;241m0.2\u001b[39m \u001b[38;5;241m*\u001b[39m \u001b[38;5;28msum\u001b[39m(observed_counts)] \u001b[38;5;241m*\u001b[39m \u001b[38;5;241m5\u001b[39m  \n\u001b[1;32m      5\u001b[0m expected_counts\u001b[38;5;241m.\u001b[39mappend(\u001b[38;5;241m0.2\u001b[39m \u001b[38;5;241m*\u001b[39m \u001b[38;5;28msum\u001b[39m(observed_counts))  \n\u001b[0;32m----> 7\u001b[0m chi2_stat, p_value \u001b[38;5;241m=\u001b[39m \u001b[43mchisquare\u001b[49m\u001b[43m(\u001b[49m\u001b[43mobserved_counts\u001b[49m\u001b[43m,\u001b[49m\u001b[43m \u001b[49m\u001b[43mf_exp\u001b[49m\u001b[38;5;241;43m=\u001b[39;49m\u001b[43mexpected_counts\u001b[49m\u001b[43m)\u001b[49m\n\u001b[1;32m      9\u001b[0m \u001b[38;5;28mprint\u001b[39m(\u001b[38;5;124m\"\u001b[39m\u001b[38;5;124mChi-square statistic:\u001b[39m\u001b[38;5;124m\"\u001b[39m, chi2_stat)\n\u001b[1;32m     10\u001b[0m \u001b[38;5;28mprint\u001b[39m(\u001b[38;5;124m\"\u001b[39m\u001b[38;5;124mP-value:\u001b[39m\u001b[38;5;124m\"\u001b[39m, p_value)\n",
      "File \u001b[0;32m/opt/conda/lib/python3.10/site-packages/scipy/stats/_stats_py.py:7311\u001b[0m, in \u001b[0;36mchisquare\u001b[0;34m(f_obs, f_exp, ddof, axis)\u001b[0m\n\u001b[1;32m   7187\u001b[0m \u001b[38;5;28;01mdef\u001b[39;00m \u001b[38;5;21mchisquare\u001b[39m(f_obs, f_exp\u001b[38;5;241m=\u001b[39m\u001b[38;5;28;01mNone\u001b[39;00m, ddof\u001b[38;5;241m=\u001b[39m\u001b[38;5;241m0\u001b[39m, axis\u001b[38;5;241m=\u001b[39m\u001b[38;5;241m0\u001b[39m):\n\u001b[1;32m   7188\u001b[0m     \u001b[38;5;124;03m\"\"\"Calculate a one-way chi-square test.\u001b[39;00m\n\u001b[1;32m   7189\u001b[0m \n\u001b[1;32m   7190\u001b[0m \u001b[38;5;124;03m    The chi-square test tests the null hypothesis that the categorical data\u001b[39;00m\n\u001b[0;32m   (...)\u001b[0m\n\u001b[1;32m   7309\u001b[0m \n\u001b[1;32m   7310\u001b[0m \u001b[38;5;124;03m    \"\"\"\u001b[39;00m\n\u001b[0;32m-> 7311\u001b[0m     \u001b[38;5;28;01mreturn\u001b[39;00m \u001b[43mpower_divergence\u001b[49m\u001b[43m(\u001b[49m\u001b[43mf_obs\u001b[49m\u001b[43m,\u001b[49m\u001b[43m \u001b[49m\u001b[43mf_exp\u001b[49m\u001b[38;5;241;43m=\u001b[39;49m\u001b[43mf_exp\u001b[49m\u001b[43m,\u001b[49m\u001b[43m \u001b[49m\u001b[43mddof\u001b[49m\u001b[38;5;241;43m=\u001b[39;49m\u001b[43mddof\u001b[49m\u001b[43m,\u001b[49m\u001b[43m \u001b[49m\u001b[43maxis\u001b[49m\u001b[38;5;241;43m=\u001b[39;49m\u001b[43maxis\u001b[49m\u001b[43m,\u001b[49m\n\u001b[1;32m   7312\u001b[0m \u001b[43m                            \u001b[49m\u001b[43mlambda_\u001b[49m\u001b[38;5;241;43m=\u001b[39;49m\u001b[38;5;124;43m\"\u001b[39;49m\u001b[38;5;124;43mpearson\u001b[39;49m\u001b[38;5;124;43m\"\u001b[39;49m\u001b[43m)\u001b[49m\n",
      "File \u001b[0;32m/opt/conda/lib/python3.10/site-packages/scipy/stats/_stats_py.py:7153\u001b[0m, in \u001b[0;36mpower_divergence\u001b[0;34m(f_obs, f_exp, ddof, axis, lambda_)\u001b[0m\n\u001b[1;32m   7147\u001b[0m     \u001b[38;5;28;01mif\u001b[39;00m diff_gt_tol:\n\u001b[1;32m   7148\u001b[0m         msg \u001b[38;5;241m=\u001b[39m (\u001b[38;5;124mf\u001b[39m\u001b[38;5;124m\"\u001b[39m\u001b[38;5;124mFor each axis slice, the sum of the observed \u001b[39m\u001b[38;5;124m\"\u001b[39m\n\u001b[1;32m   7149\u001b[0m                \u001b[38;5;124mf\u001b[39m\u001b[38;5;124m\"\u001b[39m\u001b[38;5;124mfrequencies must agree with the sum of the \u001b[39m\u001b[38;5;124m\"\u001b[39m\n\u001b[1;32m   7150\u001b[0m                \u001b[38;5;124mf\u001b[39m\u001b[38;5;124m\"\u001b[39m\u001b[38;5;124mexpected frequencies to a relative tolerance \u001b[39m\u001b[38;5;124m\"\u001b[39m\n\u001b[1;32m   7151\u001b[0m                \u001b[38;5;124mf\u001b[39m\u001b[38;5;124m\"\u001b[39m\u001b[38;5;124mof \u001b[39m\u001b[38;5;132;01m{\u001b[39;00mrtol\u001b[38;5;132;01m}\u001b[39;00m\u001b[38;5;124m, but the percent differences are:\u001b[39m\u001b[38;5;130;01m\\n\u001b[39;00m\u001b[38;5;124m\"\u001b[39m\n\u001b[1;32m   7152\u001b[0m                \u001b[38;5;124mf\u001b[39m\u001b[38;5;124m\"\u001b[39m\u001b[38;5;132;01m{\u001b[39;00mrelative_diff\u001b[38;5;132;01m}\u001b[39;00m\u001b[38;5;124m\"\u001b[39m)\n\u001b[0;32m-> 7153\u001b[0m         \u001b[38;5;28;01mraise\u001b[39;00m \u001b[38;5;167;01mValueError\u001b[39;00m(msg)\n\u001b[1;32m   7155\u001b[0m \u001b[38;5;28;01melse\u001b[39;00m:\n\u001b[1;32m   7156\u001b[0m     \u001b[38;5;66;03m# Ignore 'invalid' errors so the edge case of a data set with length 0\u001b[39;00m\n\u001b[1;32m   7157\u001b[0m     \u001b[38;5;66;03m# is handled without spurious warnings.\u001b[39;00m\n\u001b[1;32m   7158\u001b[0m     \u001b[38;5;28;01mwith\u001b[39;00m np\u001b[38;5;241m.\u001b[39merrstate(invalid\u001b[38;5;241m=\u001b[39m\u001b[38;5;124m'\u001b[39m\u001b[38;5;124mignore\u001b[39m\u001b[38;5;124m'\u001b[39m):\n",
      "\u001b[0;31mValueError\u001b[0m: For each axis slice, the sum of the observed frequencies must agree with the sum of the expected frequencies to a relative tolerance of 1e-08, but the percent differences are:\n0.2"
     ]
    }
   ],
   "source": [
    "from scipy.stats import chisquare\n",
    "observed_counts = [30, 25, 22, 12, 11, 20]\n",
    "\n",
    "expected_counts = [0.2 * sum(observed_counts)] * 5  \n",
    "expected_counts.append(0.2 * sum(observed_counts))  \n",
    "\n",
    "chi2_stat, p_value = chisquare(observed_counts, f_exp=expected_counts)\n",
    "\n",
    "print(\"Chi-square statistic:\", chi2_stat)\n",
    "print(\"P-value:\", p_value)\n",
    "\n",
    "if p_value < 0.05:\n",
    "    print(\"The distribution of colors in the bag does not match the expected distribution.\")\n",
    "else:\n",
    "    print(\"The distribution of colors in the bag matches the expected distribution.\")\n"
   ]
  },
  {
   "cell_type": "code",
   "execution_count": null,
   "id": "868f1ccb-d3ff-4a83-b862-97ebdc9c523a",
   "metadata": {},
   "outputs": [],
   "source": [
    "Q3. Use Python to calculate the chi-square statistic and p-value for a contingency table with the following\n",
    "data:\n",
    "             GroupA          Group B\n",
    "\n",
    "Outcome 1      20              15\n",
    "Outcome 2      10              25\n",
    "Outcome 3      15              20\n",
    "Interpret the results of the test."
   ]
  },
  {
   "cell_type": "code",
   "execution_count": 5,
   "id": "427377fe-184f-4729-a688-487cef3922ab",
   "metadata": {},
   "outputs": [
    {
     "name": "stdout",
     "output_type": "stream",
     "text": [
      "Chi-square statistic: 5.833333333333334\n",
      "P-value: 0.05411376622282158\n",
      "Degrees of freedom: 2\n",
      "Expected frequencies:\n",
      " [[15. 20.]\n",
      " [15. 20.]\n",
      " [15. 20.]]\n",
      "There is no significant association between GroupA and GroupB.\n"
     ]
    }
   ],
   "source": [
    "import numpy as np\n",
    "from scipy.stats import chi2_contingency\n",
    "\n",
    "\n",
    "observed_data = np.array([[20, 15], [10, 25], [15, 20]])\n",
    "\n",
    "\n",
    "chi2_stat, p_value, degrees_of_freedom, expected = chi2_contingency(observed_data)\n",
    "\n",
    "\n",
    "print(\"Chi-square statistic:\", chi2_stat)\n",
    "print(\"P-value:\", p_value)\n",
    "print(\"Degrees of freedom:\", degrees_of_freedom)\n",
    "print(\"Expected frequencies:\\n\", expected)\n",
    "\n",
    "\n",
    "if p_value < 0.05:\n",
    "    print(\"There is a significant association between GroupA and GroupB.\")\n",
    "else:\n",
    "    print(\"There is no significant association between GroupA and GroupB.\")\n"
   ]
  },
  {
   "cell_type": "code",
   "execution_count": null,
   "id": "8f628a30-6dcd-46ef-aea9-9e4e719c3e08",
   "metadata": {},
   "outputs": [],
   "source": [
    "Q4. A study of the prevalence of smoking in a population of 500 individuals found that 60 individuals\n",
    "smoked. Use Python to calculate the 95% confidence interval for the true proportion of individuals in the\n",
    "population who smoke."
   ]
  },
  {
   "cell_type": "code",
   "execution_count": 6,
   "id": "e4927670-2e93-4a58-aa74-25b965536e56",
   "metadata": {},
   "outputs": [
    {
     "name": "stdout",
     "output_type": "stream",
     "text": [
      "95% Confidence Interval: (0.09151638887130706, 0.14848361112869293)\n"
     ]
    }
   ],
   "source": [
    "import statsmodels.api as sm\n",
    "import statsmodels.stats.proportion as proportion\n",
    "\n",
    "\n",
    "total_population = 500\n",
    "num_smokers = 60\n",
    "\n",
    "\n",
    "sample_proportion = num_smokers / total_population\n",
    "\n",
    "\n",
    "standard_error = proportion.proportion_confint(num_smokers, total_population, alpha=0.05, method='normal')[1] - sample_proportion\n",
    "\n",
    "\n",
    "confidence_interval = (sample_proportion - standard_error, sample_proportion + standard_error)\n",
    "\n",
    "print(\"95% Confidence Interval:\", confidence_interval)\n"
   ]
  },
  {
   "cell_type": "code",
   "execution_count": null,
   "id": "fa5ab418-6c6f-408c-9038-3f74446414c8",
   "metadata": {},
   "outputs": [],
   "source": [
    "Q5. Calculate the 90% confidence interval for a sample of data with a mean of 75 and a standard deviation\n",
    "of 12 using Python. Interpret the results."
   ]
  },
  {
   "cell_type": "code",
   "execution_count": 7,
   "id": "7f35682d-b093-45b5-a555-4a80719dc140",
   "metadata": {},
   "outputs": [
    {
     "name": "stdout",
     "output_type": "stream",
     "text": [
      "90% Confidence Interval: (-inf, inf)\n"
     ]
    }
   ],
   "source": [
    "sample_mean = 75\n",
    "sample_std_dev = 12\n",
    "sample_size = 100 #Assume \n",
    "\n",
    "standard_error = sample_std_dev / np.sqrt(sample_size)\n",
    "\n",
    "\n",
    "z_critical = stats.norm.ppf(0.95 + (1 - 0.90) / 2)  \n",
    "margin_of_error = z_critical * standard_error\n",
    "\n",
    "lower_bound = sample_mean - margin_of_error\n",
    "upper_bound = sample_mean + margin_of_error\n",
    "\n",
    "print(\"90% Confidence Interval: ({:.2f}, {:.2f})\".format(lower_bound, upper_bound))\n"
   ]
  },
  {
   "cell_type": "code",
   "execution_count": null,
   "id": "935c241d-a253-4d92-bdf8-d3f2b71178cc",
   "metadata": {},
   "outputs": [],
   "source": [
    "The 90% confidence interval for the population mean based on the sample data is (lower_bound, upper_bound). \n",
    "This means that we are 90% confident that the true population mean lies within the range of lower_bound to upper_bound. \n",
    "The confidence interval provides a range within which we can reasonably expect the population mean to fall with a high level \n",
    "of  confidence."
   ]
  },
  {
   "cell_type": "code",
   "execution_count": null,
   "id": "20954f64-0b5c-42be-a8c9-7b4b9636ad28",
   "metadata": {},
   "outputs": [],
   "source": [
    "Q6. Use Python to plot the chi-square distribution with 10 degrees of freedom. Label the axes and shade the\n",
    "area corresponding to a chi-square statistic of 15."
   ]
  },
  {
   "cell_type": "code",
   "execution_count": 9,
   "id": "cacd1fc9-4f51-4d19-ac3f-7d5493a8c0f6",
   "metadata": {},
   "outputs": [
    {
     "data": {
      "image/png": "[encoded data removed]",
      "text/plain": [
       "<Figure size 640x480 with 1 Axes>"
      ]
     },
     "metadata": {},
     "output_type": "display_data"
    }
   ],
   "source": [
    "import numpy as np\n",
    "import matplotlib.pyplot as plt\n",
    "from scipy.stats import chi2\n",
    "df = 10\n",
    "\n",
    "x = np.linspace(0, 30, 1000)\n",
    "\n",
    "pdf = chi2.pdf(x, df)\n",
    "\n",
    "\n",
    "plt.plot(x, pdf, label='Chi-Square Distribution (df=10)')\n",
    "plt.fill_between(x, pdf, where=(x >= 15), color='gray', alpha=0.5)\n",
    "\n",
    "plt.axvline(x=15, color='red', linestyle='--', label='Chi-Square Statistic = 15')\n",
    "\n",
    "\n",
    "plt.xlabel('Chi-Square Statistic')\n",
    "plt.ylabel('Probability Density Function')\n",
    "plt.legend()\n",
    "\n",
    "plt.grid()\n",
    "plt.title('Chi-Square Distribution with 10 Degrees of Freedom')\n",
    "plt.show()\n"
   ]
  },
  {
   "cell_type": "code",
   "execution_count": null,
   "id": "2d4f2a59-daf9-4995-9a3f-eeb666334e4d",
   "metadata": {},
   "outputs": [],
   "source": [
    "Q7. A random sample of 1000 people was asked if they preferred Coke or Pepsi. Of the sample, 520\n",
    "preferred Coke. Calculate a 99% confidence interval for the true proportion of people in the population who\n",
    "prefer Coke."
   ]
  },
  {
   "cell_type": "code",
   "execution_count": null,
   "id": "9118cf6c-8623-4b55-a5cc-33c65cb48979",
   "metadata": {},
   "outputs": [],
   "source": [
    "p=is the sample proportion (520/1000 in this case, which is 0.52 when expressed as a decimal).\n",
    "the critical value is approximately 2.576.\n",
    "n is the sample size (1000 in this case).\n",
    "Confidence Interval=0.52±2.576×0.015798\n",
    "Confidence Interval=0.52±0.040721\n",
    "Confidence Interval=(0.479279,0.560721)\n",
    "We are 99% confident that the true proportion of people in the population who prefer Coke lies within the range of 47.93% to \n",
    " 56.07%."
   ]
  },
  {
   "cell_type": "code",
   "execution_count": null,
   "id": "babe4f5d-fe84-4294-8d25-2ee9d2f50d42",
   "metadata": {},
   "outputs": [],
   "source": [
    "Q8. A researcher hypothesizes that a coin is biased towards tails. They flip the coin 100 times and observe\n",
    "45 tails. Conduct a chi-square goodness of fit test to determine if the observed frequencies match the\n",
    "expected frequencies of a fair coin. Use a significance level of 0.05."
   ]
  },
  {
   "cell_type": "code",
   "execution_count": 10,
   "id": "62ee8519-b85f-4654-93fd-7ccad3184dad",
   "metadata": {},
   "outputs": [
    {
     "name": "stdout",
     "output_type": "stream",
     "text": [
      "Chi-square statistic: 1.0\n",
      "P-value: 0.31731050786291115\n",
      "The observed frequencies match the expected frequencies of a fair coin.\n"
     ]
    }
   ],
   "source": [
    "observed_tails = 45\n",
    "total_flips = 100\n",
    "expected_tails = total_flips * 0.5\n",
    "observed_frequencies = np.array([observed_tails, total_flips - observed_tails])\n",
    "\n",
    "expected_frequencies = np.array([expected_tails, total_flips - expected_tails])\n",
    "\n",
    "chi2_stat, p_value = chisquare(observed_frequencies, f_exp=expected_frequencies)\n",
    "\n",
    "print(\"Chi-square statistic:\", chi2_stat)\n",
    "print(\"P-value:\", p_value)\n",
    "\n",
    "# Check if the p-value is less than the significance level (0.05) to make the decisio\n",
    "if p_value < 0.05:\n",
    "    print(\"The observed frequencies do not match the expected frequencies of a fair coin.\")\n",
    "else:\n",
    "    print(\"The observed frequencies match the expected frequencies of a fair coin.\")\n"
   ]
  },
  {
   "cell_type": "code",
   "execution_count": null,
   "id": "68441224-1c76-45d6-8aa6-75a7c8d43ea0",
   "metadata": {},
   "outputs": [],
   "source": [
    "Q9. A study was conducted to determine if there is an association between smoking status (smoker or\n",
    "non-smoker) and lung cancer diagnosis (yes or no). The results are shown in the contingency table below.\n",
    "Conduct a chi-square test for independence to determine if there is a significant association between\n",
    "smoking status and lung cancer diagnosis.\n",
    "\n",
    "                  Lung Cancer: Yes      Lung Cancer: no\n",
    "\n",
    "Smoker                     60               140\n",
    "Non-smoker                 30               170\n",
    "Use a significance level of 0.05."
   ]
  },
  {
   "cell_type": "code",
   "execution_count": 11,
   "id": "7b96dda7-f081-4e9e-8bc5-6aee81e6e666",
   "metadata": {},
   "outputs": [
    {
     "name": "stdout",
     "output_type": "stream",
     "text": [
      "Chi-square statistic: 12.057347670250895\n",
      "P-value: 0.0005158863863703744\n",
      "Degrees of freedom: 1\n",
      "Expected frequencies:\n",
      " [[ 45. 155.]\n",
      " [ 45. 155.]]\n",
      "There is a significant association between smoking status and lung cancer diagnosis.\n"
     ]
    }
   ],
   "source": [
    "observed_data = np.array([[60, 140], [30, 170]])\n",
    "\n",
    "\n",
    "chi2_stat, p_value, degrees_of_freedom, expected = chi2_contingency(observed_data)\n",
    "\n",
    "print(\"Chi-square statistic:\", chi2_stat)\n",
    "print(\"P-value:\", p_value)\n",
    "print(\"Degrees of freedom:\", degrees_of_freedom)\n",
    "print(\"Expected frequencies:\\n\", expected)\n",
    "\n",
    "# Check if the p-value is less than the significance level (0.05) to make the decision\n",
    "if p_value < 0.05:\n",
    "    print(\"There is a significant association between smoking status and lung cancer diagnosis.\")\n",
    "else:\n",
    "    print(\"There is no significant association between smoking status and lung cancer diagnosis.\")\n"
   ]
  },
  {
   "cell_type": "code",
   "execution_count": null,
   "id": "e4cf4bff-1344-4729-ae01-270a6b8ead24",
   "metadata": {},
   "outputs": [],
   "source": [
    "Q10. A study was conducted to determine if the proportion of people who prefer milk chocolate, dark\n",
    "chocolate, or white chocolate is different in the U.S. versus the U.K. A random sample of 500 people from\n",
    "the U.S. and a random sample of 500 people from the U.K. were surveyed. The results are shown in the\n",
    "contingency table below. Conduct a chi-square test for independence to determine if there is a significant\n",
    "association between chocolate preference and country of origin.\n",
    "\n",
    "\n",
    "                        Milk Chocolate               Dark Chocolate             White Chocolate\n",
    "\n",
    "U.S. (n=500)                    200                       150                       150\n",
    "U.K. (n=500)                    225                       175                       100\n",
    "Use a significance level of 0.01."
   ]
  },
  {
   "cell_type": "code",
   "execution_count": 12,
   "id": "45c6c4a3-daed-4bb6-8652-16a2e78eb9f9",
   "metadata": {},
   "outputs": [
    {
     "name": "stdout",
     "output_type": "stream",
     "text": [
      "Chi-square statistic: 13.393665158371041\n",
      "P-value: 0.0012348168997745918\n",
      "Degrees of freedom: 2\n",
      "Expected frequencies:\n",
      " [[212.5 162.5 125. ]\n",
      " [212.5 162.5 125. ]]\n",
      "There is a significant association between chocolate preference and country of origin.\n"
     ]
    }
   ],
   "source": [
    "observed_data = np.array([[200, 150, 150], [225, 175, 100]])\n",
    "chi2_stat, p_value, degrees_of_freedom, expected = chi2_contingency(observed_data)\n",
    "\n",
    "\n",
    "print(\"Chi-square statistic:\", chi2_stat)\n",
    "print(\"P-value:\", p_value)\n",
    "print(\"Degrees of freedom:\", degrees_of_freedom)\n",
    "print(\"Expected frequencies:\\n\", expected)\n",
    "\n",
    "# Check if the p-value is less than the significance level (0.01) to make the decision\n",
    "if p_value < 0.01:\n",
    "    print(\"There is a significant association between chocolate preference and country of origin.\")\n",
    "else:\n",
    "    print(\"There is no significant association between chocolate preference and country of origin.\")\n"
   ]
  },
  {
   "cell_type": "code",
   "execution_count": null,
   "id": "bb8ea0d8-b72a-4b09-862e-c5c620b8ae6f",
   "metadata": {},
   "outputs": [],
   "source": [
    "Q11. A random sample of 30 people was selected from a population with an unknown mean and standard\n",
    "deviation. The sample mean was found to be 72 and the sample standard deviation was found to be 10.\n",
    "Conduct a hypothesis test to determine if the population mean is significantly different from 70. Use a\n",
    "significance level of 0.05."
   ]
  },
  {
   "cell_type": "code",
   "execution_count": 14,
   "id": "ba3de531-1a15-4bb1-8b5e-4d9618000830",
   "metadata": {},
   "outputs": [
    {
     "name": "stdout",
     "output_type": "stream",
     "text": [
      "t-statistic: 3.346171749832016\n",
      "P-value: 0.0022779217716439887\n",
      "The population mean is significantly different from 70.\n"
     ]
    }
   ],
   "source": [
    "import numpy as np\n",
    "from scipy.stats import ttest_1samp\n",
    "\n",
    "# Given data\n",
    "sample_mean = 72\n",
    "sample_std_dev = 10\n",
    "sample_size = 30\n",
    "null_hypothesis_mean = 70\n",
    "\n",
    "# Perform the one-sample t-test\n",
    "t_stat, p_value = ttest_1samp(np.random.normal(sample_mean, sample_std_dev, sample_size), null_hypothesis_mean)\n",
    "\n",
    "# Print the results\n",
    "print(\"t-statistic:\", t_stat)\n",
    "print(\"P-value:\", p_value)\n",
    "\n",
    "# Check if the p-value is less than the significance level (0.05) to make the decision\n",
    "if p_value < 0.05:\n",
    "    print(\"The population mean is significantly different from 70.\")\n",
    "else:\n",
    "    print(\"There is no significant difference between the population mean and 70.\")\n"
   ]
  },
  {
   "cell_type": "code",
   "execution_count": null,
   "id": "aa5dabba-1129-4617-b54a-a7f9d16a0718",
   "metadata": {},
   "outputs": [],
   "source": []
  }
 ],
 "metadata": {
  "kernelspec": {
   "display_name": "Python 3 (ipykernel)",
   "language": "python",
   "name": "python3"
  },
  "language_info": {
   "codemirror_mode": {
    "name": "ipython",
    "version": 3
   },
   "file_extension": ".py",
   "mimetype": "text/x-python",
   "name": "python",
   "nbconvert_exporter": "python",
   "pygments_lexer": "ipython3",
   "version": "3.10.8"
  }
 },
 "nbformat": 4,
 "nbformat_minor": 5
}
